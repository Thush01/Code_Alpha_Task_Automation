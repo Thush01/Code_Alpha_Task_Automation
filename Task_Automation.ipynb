{
 "cells": [
  {
   "cell_type": "code",
   "execution_count": 41,
   "id": "e54a738f-7cb6-446c-9070-f94d1c93b50b",
   "metadata": {
    "tags": []
   },
   "outputs": [],
   "source": [
    "import os"
   ]
  },
  {
   "cell_type": "code",
   "execution_count": 55,
   "id": "c8bb247f-2e70-4ede-9a82-6e0066eb8d4d",
   "metadata": {
    "tags": []
   },
   "outputs": [],
   "source": [
    "def rename_files(directory):\n",
    "    os.chdir(directory)\n",
    "    files = os.listdir()\n",
    "    new_name_prefix = \"file\"\n",
    "    file_count = 1\n",
    "    \n",
    "    for old_name in files:\n",
    "      if old_name.startswith('.'):\n",
    "        continue\n",
    "      \n",
    "      filename,file_extension = os.path.splitext(old_name)\n",
    "    \n",
    "      new_name = f\"{new_name_prefix}_{file_count}{file_extension}\"\n",
    "      while os.path.exists(new_name):\n",
    "            file_count += 1\n",
    "            new_name = f\"{new_name_prefix}_{file_count}{file_extension}\"\n",
    "      os.rename(old_name, new_name)\n",
    "    \n",
    "      file_count += 1\n",
    "directory_path = r\"C:\\Users\\thush_pgfwsad\\OneDrive\\Pictures\"\n",
    "rename_files(directory_path)        \n",
    "        "
   ]
  },
  {
   "cell_type": "code",
   "execution_count": null,
   "id": "5e5e160a-9986-4433-b967-2012db3bdd46",
   "metadata": {},
   "outputs": [],
   "source": []
  }
 ],
 "metadata": {
  "kernelspec": {
   "display_name": "Python 3 (ipykernel)",
   "language": "python",
   "name": "python3"
  },
  "language_info": {
   "codemirror_mode": {
    "name": "ipython",
    "version": 3
   },
   "file_extension": ".py",
   "mimetype": "text/x-python",
   "name": "python",
   "nbconvert_exporter": "python",
   "pygments_lexer": "ipython3",
   "version": "3.11.5"
  }
 },
 "nbformat": 4,
 "nbformat_minor": 5
}
